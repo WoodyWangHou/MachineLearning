{
 "cells": [
  {
   "cell_type": "code",
   "execution_count": 1,
   "metadata": {},
   "outputs": [],
   "source": [
    "import numpy as np"
   ]
  },
  {
   "cell_type": "code",
   "execution_count": 51,
   "metadata": {},
   "outputs": [],
   "source": [
    "# base class for declaring distance function\n",
    "class Distance:\n",
    "    def getDistance(self, pt1, pt2):\n",
    "        pass;\n",
    "    \n",
    "# base class for declaring select prototypes samples from training samples\n",
    "class PrototypeSelector:\n",
    "    @staticmethod\n",
    "    def getPrototypes(self, training_set, label_set, M = 0):\n",
    "        pass;"
   ]
  },
  {
   "cell_type": "code",
   "execution_count": 74,
   "metadata": {},
   "outputs": [
    {
     "name": "stdout",
     "output_type": "stream",
     "text": [
      "\n"
     ]
    }
   ],
   "source": [
    "class Euclidean(Distance):\n",
    "    def getDistance(self, pt1, pt2):\n",
    "        assert type(pt1) is type(pt2)\n",
    "        return np.sqrt(np.sum((np.subtract(pt1, pt2))**2));"
   ]
  },
  {
   "cell_type": "code",
   "execution_count": 93,
   "metadata": {},
   "outputs": [],
   "source": [
    "'''\n",
    "Condense NN algorithm\n",
    "Paper: https://sci2s.ugr.es/sites/default/files/files/TematicWebSites/pr/T-4-2010-PSMethods.pdf\n",
    "'''\n",
    "\n",
    "class LabelBasedSelector(PrototypeSelector):\n",
    "    @staticmethod\n",
    "    def getPrototypes(training_list = [], label_list = [], M = 0):\n",
    "        import numpy as np\n",
    "        import random as rd\n",
    "        import collections as cl\n",
    "        assert M < len(label_list);\n",
    "        assert isinstance(training_list, list) or isinstance(training_list, np.ndarray);\n",
    "        assert len(training_list) == len(label_list);\n",
    "        \n",
    "        # wrap list with numpy\n",
    "        if not isinstance(training_list, np.ndarray):\n",
    "            train_np = np.array(training_list);\n",
    "        \n",
    "        if not isinstance(label_list, np.ndarray):\n",
    "            label_np = np.array(label_list);\n",
    "        \n",
    "        # pair data and label\n",
    "        aggregate = dict()\n",
    "        label_total = len(label_np);\n",
    "        \n",
    "        for i in xrange(len(label_np)):\n",
    "            if label_np[i] not in aggregate:\n",
    "                aggregate[label_np[i]] = list();\n",
    "            aggregate[label_np[i]].append(train_np[i]);\n",
    "            \n",
    "        \n",
    "        # randome select subset\n",
    "        res = list();\n",
    "        for label, data_list in aggregate.iteritems():\n",
    "            m = int((len(data_list) / float(label_total)) * M);\n",
    "            d_list = rd.sample(data_list, m);\n",
    "            for data in d_list:\n",
    "                res.append((data, label));\n",
    "        \n",
    "        data_list = np.array([res[i][0] for i in xrange(len(res))]);\n",
    "        label_list = np.array([res[i][1] for i in xrange(len(res))]);\n",
    "        return data_list, label_list"
   ]
  },
  {
   "cell_type": "code",
   "execution_count": 84,
   "metadata": {},
   "outputs": [],
   "source": [
    "class RandomSelector(PrototypeSelector):\n",
    "    @staticmethod\n",
    "    def getPrototypes(training_list = [], label_list = [], M = 0):\n",
    "        import numpy as np\n",
    "        import random as rd\n",
    "        assert M < len(label_list);\n",
    "        assert isinstance(training_list, list) or isinstance(training_list, np.ndarray);\n",
    "        assert len(training_list) == len(label_list);\n",
    "        \n",
    "        # wrap list with numpy\n",
    "        if not isinstance(training_list, np.ndarray):\n",
    "            train_np = np.array(training_list);\n",
    "        \n",
    "        if not isinstance(label_list, np.ndarray):\n",
    "            label_np = np.array(label_list);\n",
    "        \n",
    "        # create a dictionary based on label\n",
    "        aggregate = list();\n",
    "        for i in xrange(len(train_np)):\n",
    "            aggregate.append([train_np[i], label_np[i]]);\n",
    "        \n",
    "        # randome select subset\n",
    "        selected = rd.sample(aggregate, M);\n",
    "        \n",
    "        data_selected = np.array([selected[i][0] for i in xrange(len(selected))]);\n",
    "        label_selected = np.array([selected[i][1] for i in xrange(len(selected))]);\n",
    "        \n",
    "        return data_selected, label_selected"
   ]
  },
  {
   "cell_type": "code",
   "execution_count": 24,
   "metadata": {},
   "outputs": [],
   "source": [
    "class LearningModel:\n",
    "    def loadTrainingData(self, data, labels):\n",
    "        pass;\n",
    "    def train():\n",
    "        pass;\n",
    "    def validateModel(self, test_data, test_labels):\n",
    "        pass;"
   ]
  },
  {
   "cell_type": "code",
   "execution_count": 117,
   "metadata": {},
   "outputs": [],
   "source": [
    "import numpy as np;\n",
    "class NearestNeighbor(LearningModel):\n",
    "    \n",
    "    def __init__(self, data, label, DistanceFunc):\n",
    "        if data is not None:\n",
    "            self.data = np.array(data);\n",
    "            \n",
    "        if label is not None:\n",
    "            self.label = np.array(label);\n",
    "            \n",
    "        assert isinstance(DistanceFunc, Distance)\n",
    "        self.distFunc = DistanceFunc.getDistance;\n",
    "        \n",
    "        self.test_error = 0;\n",
    "        self.num_test = 0;\n",
    "        self.test_error_rate = 0;\n",
    "    def loadTrainingData(self, data, labels):\n",
    "        self.data = data;\n",
    "        self.labels = labels;\n",
    "        \n",
    "    def validateModel(self, test_data, test_labels):\n",
    "        assert isinstance(test_data, list) or isinstance(test_data, np.ndarray);\n",
    "        assert isinstance(test_labels, list) or isinstance(test_labels, np.ndarray);\n",
    "        \n",
    "        if not isinstance(test_data, np.ndarray):\n",
    "            wrap_data = np.array(test_data);\n",
    "        if not isinstance(test_data, np.ndarray):\n",
    "            wrap_labels = np.array(test_labels);\n",
    "            \n",
    "        self.num_test = len(wrap_data);\n",
    "        \n",
    "        for i in xrange(len(wrap_data)):\n",
    "            nn = self.getNN(wrap_data[i]);\n",
    "            if nn != test_labels[i]:\n",
    "                self.test_error += 1;\n",
    "        \n",
    "        self.test_error_rate = float(self.test_error) / self.num_test;\n",
    "        \n",
    "    def getNN(self, pt):\n",
    "        assert hasattr(self, 'data');\n",
    "        assert len(self.data) > 0;\n",
    "        \n",
    "        wrap_pt = np.array(pt);\n",
    "        list_pt = np.array([pt for i in xrange(len(self.data))]);\n",
    "        res = map(self.distFunc, self.data, list_pt)\n",
    "        idx = res.index(min(res))\n",
    "        return self.label[idx];"
   ]
  },
  {
   "cell_type": "code",
   "execution_count": 7,
   "metadata": {},
   "outputs": [],
   "source": [
    "def download(url, des=\"default.txt\"):\n",
    "    import urllib2 as ul\n",
    "    response = ul.urlopen(url)\n",
    "    data = response.read();\n",
    "    with open(des, 'w') as f:\n",
    "        f.write(data)\n",
    "        \n",
    "def unzipGz(path, des=\"default.txt\"):\n",
    "    import gzip\n",
    "    import shutil\n",
    "    with gzip.open(path, 'rb') as f_in:\n",
    "        with open(des, 'wb') as f_out:\n",
    "            shutil.copyfileobj(f_in, f_out)"
   ]
  },
  {
   "cell_type": "code",
   "execution_count": 8,
   "metadata": {},
   "outputs": [],
   "source": [
    "# method for getting imgs data from MNIST\n",
    "'''\n",
    "[offset] [type]          [value]          [description] \n",
    "0000     32 bit integer  0x00000803(2051) magic number \n",
    "0004     32 bit integer  60000            number of images \n",
    "0008     32 bit integer  28               number of rows \n",
    "0012     32 bit integer  28               number of columns \n",
    "0016     unsigned byte   ??               pixel \n",
    "0017     unsigned byte   ??               pixel \n",
    "'''\n",
    "\n",
    "img_size = 28 * 28;\n",
    "fmt = \">\"\n",
    "for i in xrange(img_size):\n",
    "    fmt += \"B\";\n",
    "    \n",
    "def getImgs(path):\n",
    "    import struct\n",
    "    imgs = list();\n",
    "    with open(path, 'rb') as f:\n",
    "        byte = f.read(16); # \"skip headers\"\n",
    "        byte = f.read(img_size);\n",
    "        while byte != \"\":\n",
    "            img = struct.unpack_from(fmt, byte)\n",
    "            imgs.append(img);\n",
    "            byte = f.read(img_size);\n",
    "    return imgs;"
   ]
  },
  {
   "cell_type": "code",
   "execution_count": 9,
   "metadata": {},
   "outputs": [],
   "source": [
    "# method for getting label data from MNIST\n",
    "'''\n",
    "[offset] [type]          [value]          [description] \n",
    "0000     32 bit integer  0x00000801(2049) magic number (MSB first) \n",
    "0004     32 bit integer  60000            number of items \n",
    "0008     unsigned byte   ??               label \n",
    "0009     unsigned byte   ??               label \n",
    "'''\n",
    "\n",
    "def getLabels(path):\n",
    "    import struct\n",
    "    labels = list();\n",
    "    with open(path, 'rb') as f:\n",
    "        byte = f.read(8); \"skip headers\"\n",
    "        byte = f.read(1);\n",
    "        while byte != \"\":\n",
    "            labels.append(struct.unpack('>B',byte)[0]);\n",
    "            byte = f.read(1);\n",
    "    return labels;"
   ]
  },
  {
   "cell_type": "code",
   "execution_count": 43,
   "metadata": {},
   "outputs": [],
   "source": [
    "'''\n",
    " Note: only execute the following: functions once, as they are only download and unzip data\n",
    "'''\n",
    "# unzip file \n",
    "train_imgs_file = \"train_data\"\n",
    "des = train_imgs_file + \".gz\";\n",
    "# download(\"http://yann.lecun.com/exdb/mnist/train-images-idx3-ubyte.gz\",des)\n",
    "# unzipGz(des, train_imgs_file)\n",
    "\n",
    "# get label file\n",
    "train_label_file = \"train_label\"\n",
    "label_des = train_label_file +\".gz\"\n",
    "# download(\"http://yann.lecun.com/exdb/mnist/train-labels-idx1-ubyte.gz\",label_des)\n",
    "# unzipGz(label_des, train_label_file)"
   ]
  },
  {
   "cell_type": "code",
   "execution_count": 10,
   "metadata": {},
   "outputs": [],
   "source": [
    "# Prepare training data nad labels\n",
    "labels = getLabels(train_label_file);\n",
    "\n",
    "imgs = getImgs(train_imgs_file);"
   ]
  },
  {
   "cell_type": "code",
   "execution_count": 77,
   "metadata": {},
   "outputs": [],
   "source": [
    "# get test data file and label file\n",
    "test_imgs_file = \"test_data\"\n",
    "test_imgs_des = test_imgs_file + '.gz';\n",
    "# download(\"http://yann.lecun.com/exdb/mnist/t10k-images-idx3-ubyte.gz\",test_imgs_des)\n",
    "# unzipGz(test_imgs_des, test_imgs_file)\n",
    "\n",
    "test_label_file = \"test_label\"\n",
    "test_label_des = test_label_file + '.gz';\n",
    "# download(\"http://yann.lecun.com/exdb/mnist/t10k-labels-idx1-ubyte.gz\",test_label_des)\n",
    "# unzipGz(test_label_des, test_label_file)"
   ]
  },
  {
   "cell_type": "code",
   "execution_count": 78,
   "metadata": {},
   "outputs": [],
   "source": [
    "# Prepare test data and labels\n",
    "test_labels = getLabels(test_label_file);\n",
    "test_imgs = getImgs(test_imgs_file);"
   ]
  },
  {
   "cell_type": "code",
   "execution_count": 124,
   "metadata": {},
   "outputs": [
    {
     "name": "stdout",
     "output_type": "stream",
     "text": [
      "Finish test on M = 100:\n",
      "0.2726\n",
      "0.2985\n",
      "Finish test on M = 500:\n",
      "0.1518\n",
      "0.1583\n",
      "Finish test on M = 1000:\n",
      "0.1061\n",
      "0.1185\n"
     ]
    },
    {
     "ename": "KeyboardInterrupt",
     "evalue": "",
     "output_type": "error",
     "traceback": [
      "\u001b[0;31m---------------------------------------------------------------------------\u001b[0m",
      "\u001b[0;31mKeyboardInterrupt\u001b[0m                         Traceback (most recent call last)",
      "\u001b[0;32m<ipython-input-124-fc5bfb1ad9e3>\u001b[0m in \u001b[0;36m<module>\u001b[0;34m()\u001b[0m\n\u001b[1;32m     14\u001b[0m     \u001b[0mmy_nn\u001b[0m \u001b[0;34m=\u001b[0m \u001b[0mNearestNeighbor\u001b[0m\u001b[0;34m(\u001b[0m\u001b[0mmy_imgs\u001b[0m\u001b[0;34m,\u001b[0m \u001b[0mmy_labels\u001b[0m\u001b[0;34m,\u001b[0m \u001b[0mdistance\u001b[0m\u001b[0;34m)\u001b[0m\u001b[0;34m;\u001b[0m\u001b[0;34m\u001b[0m\u001b[0m\n\u001b[1;32m     15\u001b[0m \u001b[0;34m\u001b[0m\u001b[0m\n\u001b[0;32m---> 16\u001b[0;31m     \u001b[0mrand_nn\u001b[0m\u001b[0;34m.\u001b[0m\u001b[0mvalidateModel\u001b[0m\u001b[0;34m(\u001b[0m\u001b[0mtest_imgs\u001b[0m\u001b[0;34m,\u001b[0m \u001b[0mtest_labels\u001b[0m\u001b[0;34m)\u001b[0m\u001b[0;34m;\u001b[0m\u001b[0;34m\u001b[0m\u001b[0m\n\u001b[0m\u001b[1;32m     17\u001b[0m     \u001b[0mmy_nn\u001b[0m\u001b[0;34m.\u001b[0m\u001b[0mvalidateModel\u001b[0m\u001b[0;34m(\u001b[0m\u001b[0mtest_imgs\u001b[0m\u001b[0;34m,\u001b[0m \u001b[0mtest_labels\u001b[0m\u001b[0;34m)\u001b[0m\u001b[0;34m;\u001b[0m\u001b[0;34m\u001b[0m\u001b[0m\n\u001b[1;32m     18\u001b[0m \u001b[0;34m\u001b[0m\u001b[0m\n",
      "\u001b[0;32m<ipython-input-117-87c19e119ff0>\u001b[0m in \u001b[0;36mvalidateModel\u001b[0;34m(self, test_data, test_labels)\u001b[0m\n\u001b[1;32m     31\u001b[0m \u001b[0;34m\u001b[0m\u001b[0m\n\u001b[1;32m     32\u001b[0m         \u001b[0;32mfor\u001b[0m \u001b[0mi\u001b[0m \u001b[0;32min\u001b[0m \u001b[0mxrange\u001b[0m\u001b[0;34m(\u001b[0m\u001b[0mlen\u001b[0m\u001b[0;34m(\u001b[0m\u001b[0mwrap_data\u001b[0m\u001b[0;34m)\u001b[0m\u001b[0;34m)\u001b[0m\u001b[0;34m:\u001b[0m\u001b[0;34m\u001b[0m\u001b[0m\n\u001b[0;32m---> 33\u001b[0;31m             \u001b[0mnn\u001b[0m \u001b[0;34m=\u001b[0m \u001b[0mself\u001b[0m\u001b[0;34m.\u001b[0m\u001b[0mgetNN\u001b[0m\u001b[0;34m(\u001b[0m\u001b[0mwrap_data\u001b[0m\u001b[0;34m[\u001b[0m\u001b[0mi\u001b[0m\u001b[0;34m]\u001b[0m\u001b[0;34m)\u001b[0m\u001b[0;34m;\u001b[0m\u001b[0;34m\u001b[0m\u001b[0m\n\u001b[0m\u001b[1;32m     34\u001b[0m             \u001b[0;32mif\u001b[0m \u001b[0mnn\u001b[0m \u001b[0;34m!=\u001b[0m \u001b[0mtest_labels\u001b[0m\u001b[0;34m[\u001b[0m\u001b[0mi\u001b[0m\u001b[0;34m]\u001b[0m\u001b[0;34m:\u001b[0m\u001b[0;34m\u001b[0m\u001b[0m\n\u001b[1;32m     35\u001b[0m                 \u001b[0mself\u001b[0m\u001b[0;34m.\u001b[0m\u001b[0mtest_error\u001b[0m \u001b[0;34m+=\u001b[0m \u001b[0;36m1\u001b[0m\u001b[0;34m;\u001b[0m\u001b[0;34m\u001b[0m\u001b[0m\n",
      "\u001b[0;32m<ipython-input-117-87c19e119ff0>\u001b[0m in \u001b[0;36mgetNN\u001b[0;34m(self, pt)\u001b[0m\n\u001b[1;32m     43\u001b[0m         \u001b[0mwrap_pt\u001b[0m \u001b[0;34m=\u001b[0m \u001b[0mnp\u001b[0m\u001b[0;34m.\u001b[0m\u001b[0marray\u001b[0m\u001b[0;34m(\u001b[0m\u001b[0mpt\u001b[0m\u001b[0;34m)\u001b[0m\u001b[0;34m;\u001b[0m\u001b[0;34m\u001b[0m\u001b[0m\n\u001b[1;32m     44\u001b[0m         \u001b[0mlist_pt\u001b[0m \u001b[0;34m=\u001b[0m \u001b[0mnp\u001b[0m\u001b[0;34m.\u001b[0m\u001b[0marray\u001b[0m\u001b[0;34m(\u001b[0m\u001b[0;34m[\u001b[0m\u001b[0mpt\u001b[0m \u001b[0;32mfor\u001b[0m \u001b[0mi\u001b[0m \u001b[0;32min\u001b[0m \u001b[0mxrange\u001b[0m\u001b[0;34m(\u001b[0m\u001b[0mlen\u001b[0m\u001b[0;34m(\u001b[0m\u001b[0mself\u001b[0m\u001b[0;34m.\u001b[0m\u001b[0mdata\u001b[0m\u001b[0;34m)\u001b[0m\u001b[0;34m)\u001b[0m\u001b[0;34m]\u001b[0m\u001b[0;34m)\u001b[0m\u001b[0;34m;\u001b[0m\u001b[0;34m\u001b[0m\u001b[0m\n\u001b[0;32m---> 45\u001b[0;31m         \u001b[0mres\u001b[0m \u001b[0;34m=\u001b[0m \u001b[0mmap\u001b[0m\u001b[0;34m(\u001b[0m\u001b[0mself\u001b[0m\u001b[0;34m.\u001b[0m\u001b[0mdistFunc\u001b[0m\u001b[0;34m,\u001b[0m \u001b[0mself\u001b[0m\u001b[0;34m.\u001b[0m\u001b[0mdata\u001b[0m\u001b[0;34m,\u001b[0m \u001b[0mlist_pt\u001b[0m\u001b[0;34m)\u001b[0m\u001b[0;34m\u001b[0m\u001b[0m\n\u001b[0m\u001b[1;32m     46\u001b[0m         \u001b[0midx\u001b[0m \u001b[0;34m=\u001b[0m \u001b[0mres\u001b[0m\u001b[0;34m.\u001b[0m\u001b[0mindex\u001b[0m\u001b[0;34m(\u001b[0m\u001b[0mmin\u001b[0m\u001b[0;34m(\u001b[0m\u001b[0mres\u001b[0m\u001b[0;34m)\u001b[0m\u001b[0;34m)\u001b[0m\u001b[0;34m\u001b[0m\u001b[0m\n\u001b[1;32m     47\u001b[0m         \u001b[0;32mreturn\u001b[0m \u001b[0mself\u001b[0m\u001b[0;34m.\u001b[0m\u001b[0mlabel\u001b[0m\u001b[0;34m[\u001b[0m\u001b[0midx\u001b[0m\u001b[0;34m]\u001b[0m\u001b[0;34m;\u001b[0m\u001b[0;34m\u001b[0m\u001b[0m\n",
      "\u001b[0;32m<ipython-input-74-882076dd4532>\u001b[0m in \u001b[0;36mgetDistance\u001b[0;34m(self, pt1, pt2)\u001b[0m\n\u001b[1;32m      2\u001b[0m     \u001b[0;32mdef\u001b[0m \u001b[0mgetDistance\u001b[0m\u001b[0;34m(\u001b[0m\u001b[0mself\u001b[0m\u001b[0;34m,\u001b[0m \u001b[0mpt1\u001b[0m\u001b[0;34m,\u001b[0m \u001b[0mpt2\u001b[0m\u001b[0;34m)\u001b[0m\u001b[0;34m:\u001b[0m\u001b[0;34m\u001b[0m\u001b[0m\n\u001b[1;32m      3\u001b[0m         \u001b[0;32massert\u001b[0m \u001b[0mtype\u001b[0m\u001b[0;34m(\u001b[0m\u001b[0mpt1\u001b[0m\u001b[0;34m)\u001b[0m \u001b[0;32mis\u001b[0m \u001b[0mtype\u001b[0m\u001b[0;34m(\u001b[0m\u001b[0mpt2\u001b[0m\u001b[0;34m)\u001b[0m\u001b[0;34m\u001b[0m\u001b[0m\n\u001b[0;32m----> 4\u001b[0;31m         \u001b[0;32mreturn\u001b[0m \u001b[0mnp\u001b[0m\u001b[0;34m.\u001b[0m\u001b[0msqrt\u001b[0m\u001b[0;34m(\u001b[0m\u001b[0mnp\u001b[0m\u001b[0;34m.\u001b[0m\u001b[0msum\u001b[0m\u001b[0;34m(\u001b[0m\u001b[0;34m(\u001b[0m\u001b[0mnp\u001b[0m\u001b[0;34m.\u001b[0m\u001b[0msubtract\u001b[0m\u001b[0;34m(\u001b[0m\u001b[0mpt1\u001b[0m\u001b[0;34m,\u001b[0m \u001b[0mpt2\u001b[0m\u001b[0;34m)\u001b[0m\u001b[0;34m)\u001b[0m\u001b[0;34m**\u001b[0m\u001b[0;36m2\u001b[0m\u001b[0;34m)\u001b[0m\u001b[0;34m)\u001b[0m\u001b[0;34m;\u001b[0m\u001b[0;34m\u001b[0m\u001b[0m\n\u001b[0m",
      "\u001b[0;31mKeyboardInterrupt\u001b[0m: "
     ]
    }
   ],
   "source": [
    "'''\n",
    "    Create 1NN model based on two selector\n",
    "'''\n",
    "distance = Euclidean();\n",
    "M = [100,500,1000,5000,10000];\n",
    "rand_error_rates = list();\n",
    "my_error_rates = list();\n",
    "\n",
    "for m in M:\n",
    "    (rand_imgs, rand_labels) = RandomSelector.getPrototypes(imgs, labels, m);\n",
    "    rand_nn = NearestNeighbor(rand_imgs, rand_labels, distance);\n",
    "\n",
    "    (my_imgs, my_labels) = LabelBasedSelector.getPrototypes(imgs, labels, m);\n",
    "    my_nn = NearestNeighbor(my_imgs, my_labels, distance);\n",
    "    \n",
    "    rand_nn.validateModel(test_imgs, test_labels);\n",
    "    my_nn.validateModel(test_imgs, test_labels);\n",
    "    \n",
    "    print 'Finish test on M = ' + str(m) + ':' \n",
    "    print rand_nn.test_error_rate\n",
    "    print my_nn.test_error_rate\n",
    "    \n",
    "    rand_error_rates.append(rand_nn.test_error_rate);\n",
    "    my_error_rates.append(my_nn.test_error_rate);\n"
   ]
  },
  {
   "cell_type": "code",
   "execution_count": null,
   "metadata": {},
   "outputs": [],
   "source": [
    "print rand_error_rates\n",
    "print my_error_rates"
   ]
  },
  {
   "cell_type": "code",
   "execution_count": null,
   "metadata": {},
   "outputs": [],
   "source": []
  },
  {
   "cell_type": "markdown",
   "metadata": {},
   "source": [
    "## The following is used for visual debugging:"
   ]
  },
  {
   "cell_type": "code",
   "execution_count": 106,
   "metadata": {},
   "outputs": [
    {
     "data": {
      "image/png": "[encoded data removed]",
      "text/plain": [
       "<Figure size 432x288 with 1 Axes>"
      ]
     },
     "metadata": {
      "needs_background": "light"
     },
     "output_type": "display_data"
    }
   ],
   "source": [
    "import matplotlib.pyplot as plt\n",
    "arr = np.asarray(my_imgs[0]).reshape((28,28));\n",
    "plt.imshow(arr)\n",
    "plt.show();"
   ]
  },
  {
   "cell_type": "code",
   "execution_count": 80,
   "metadata": {},
   "outputs": [
    {
     "data": {
      "text/plain": [
       "7"
      ]
     },
     "execution_count": 80,
     "metadata": {},
     "output_type": "execute_result"
    }
   ],
   "source": [
    "test_labels[0]"
   ]
  },
  {
   "cell_type": "code",
   "execution_count": 76,
   "metadata": {},
   "outputs": [
    {
     "name": "stdout",
     "output_type": "stream",
     "text": [
      "5\n"
     ]
    }
   ],
   "source": []
  }
 ],
 "metadata": {
  "kernelspec": {
   "display_name": "Python 2",
   "language": "python",
   "name": "python2"
  },
  "language_info": {
   "codemirror_mode": {
    "name": "ipython",
    "version": 2
   },
   "file_extension": ".py",
   "mimetype": "text/x-python",
   "name": "python",
   "nbconvert_exporter": "python",
   "pygments_lexer": "ipython2",
   "version": "2.7.15"
  }
 },
 "nbformat": 4,
 "nbformat_minor": 2
}
